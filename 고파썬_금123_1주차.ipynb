{
  "nbformat": 4,
  "nbformat_minor": 0,
  "metadata": {
    "colab": {
      "name": "고파썬 금123 1주차.ipynb",
      "provenance": [],
      "collapsed_sections": [],
      "authorship_tag": "ABX9TyNHNM0TAWwHi80Lx7h3Vbpr",
      "include_colab_link": true
    },
    "kernelspec": {
      "name": "python3",
      "display_name": "Python 3"
    },
    "language_info": {
      "name": "python"
    }
  },
  "cells": [
    {
      "cell_type": "markdown",
      "metadata": {
        "id": "view-in-github",
        "colab_type": "text"
      },
      "source": [
        "<a href=\"https://colab.research.google.com/github/hufs-eugene/assignments-fri123/blob/main/%EA%B3%A0%ED%8C%8C%EC%8D%AC_%EA%B8%88123_1%EC%A3%BC%EC%B0%A8.ipynb\" target=\"_parent\"><img src=\"https://colab.research.google.com/assets/colab-badge.svg\" alt=\"Open In Colab\"/></a>"
      ]
    },
    {
      "cell_type": "markdown",
      "source": [
        "## 프로그래밍이란?\n",
        "- programming: 프로그래밍 언어를 사용하여 프로그램을 개발하는 것.\n",
        "- program: 일련의 작업을 자동화하는 것.\n",
        "- python: 프로그래밍 언어 중 하나. 인간이 컴퓨터에게 작업을 명령하기 위해 사용하는 컴퓨터가 이해할 수 있는 언어.\n"
      ],
      "metadata": {
        "id": "v1zKU5YopCRc"
      }
    },
    {
      "cell_type": "markdown",
      "source": [
        "## Ch2. Data:Types, Values, Variables, and Names"
      ],
      "metadata": {
        "id": "Q59uKE2Vpbyp"
      }
    },
    {
      "cell_type": "code",
      "source": [
        "a = 2"
      ],
      "metadata": {
        "id": "zkKBlDqfpkct"
      },
      "execution_count": null,
      "outputs": []
    },
    {
      "cell_type": "markdown",
      "source": [
        "- markdown = m+\n",
        "- 변수 | variablee (i.e. a): 특정 값을 저장하는 공간\n",
        "- 값 | value: 2\n",
        "- 자료형| type: 2가 어떤 타입인가? 데이터의 형태. (i.e., integer, int 타입)\n",
        "- 할당하다 | assign: 2를 a에 넣는 과정\n",
        "    -a가 2다?? a == 2?(equal)\n",
        "  "
      ],
      "metadata": {
        "id": "OWTF7FnCpsS8"
      }
    },
    {
      "cell_type": "code",
      "source": [
        "a = 2\n",
        "a"
      ],
      "metadata": {
        "colab": {
          "base_uri": "https://localhost:8080/"
        },
        "id": "ws_niURgqpHP",
        "outputId": "bdbd21a4-a7bd-424e-b219-954a942c08b3"
      },
      "execution_count": null,
      "outputs": [
        {
          "output_type": "execute_result",
          "data": {
            "text/plain": [
              "2"
            ]
          },
          "metadata": {},
          "execution_count": 7
        }
      ]
    },
    {
      "cell_type": "code",
      "source": [
        "a == 2"
      ],
      "metadata": {
        "colab": {
          "base_uri": "https://localhost:8080/"
        },
        "id": "sjHTfrZkqjyq",
        "outputId": "0287b886-bb9c-4b40-bd65-1d244d44fe25"
      },
      "execution_count": null,
      "outputs": [
        {
          "output_type": "execute_result",
          "data": {
            "text/plain": [
              "True"
            ]
          },
          "metadata": {},
          "execution_count": 8
        }
      ]
    },
    {
      "cell_type": "markdown",
      "source": [
        "### 변수의 타입\n",
        "- boolean|불리언: True, False (`bool`)\n",
        "- integer|정수: 1, 2, 3, 4 ...(`int`)\n",
        "- floating point number|부동소수점: 1.0, 2.0, 0.45 ...(`float`)\n",
        "- string|문자열: \"apple\", 'apple' (`str`)"
      ],
      "metadata": {
        "id": "6y-7s3OaquQM"
      }
    },
    {
      "cell_type": "code",
      "source": [
        "num = 4\n",
        "4"
      ],
      "metadata": {
        "colab": {
          "base_uri": "https://localhost:8080/"
        },
        "id": "8Krtam7VrLQH",
        "outputId": "b7c3eff6-4d4a-4994-b2a2-947b5eea893f"
      },
      "execution_count": null,
      "outputs": [
        {
          "output_type": "execute_result",
          "data": {
            "text/plain": [
              "4"
            ]
          },
          "metadata": {},
          "execution_count": 2
        }
      ]
    },
    {
      "cell_type": "code",
      "source": [
        "print(num)"
      ],
      "metadata": {
        "colab": {
          "base_uri": "https://localhost:8080/"
        },
        "id": "4n0-FR4trPZZ",
        "outputId": "67c06dcf-98fc-4b4f-cc88-5a7b8babc7c1"
      },
      "execution_count": null,
      "outputs": [
        {
          "output_type": "stream",
          "name": "stdout",
          "text": [
            "4\n"
          ]
        }
      ]
    },
    {
      "cell_type": "code",
      "source": [
        "type(num)"
      ],
      "metadata": {
        "colab": {
          "base_uri": "https://localhost:8080/"
        },
        "id": "J_G-o_WPrqj8",
        "outputId": "b4421a6c-a6fd-468a-b7f5-6d5d72efa1e3"
      },
      "execution_count": null,
      "outputs": [
        {
          "output_type": "execute_result",
          "data": {
            "text/plain": [
              "int"
            ]
          },
          "metadata": {},
          "execution_count": 9
        }
      ]
    },
    {
      "cell_type": "code",
      "source": [
        "type(1.0)"
      ],
      "metadata": {
        "colab": {
          "base_uri": "https://localhost:8080/"
        },
        "id": "6PIvIxB0r-Kp",
        "outputId": "a7fe53a3-9dcd-47b5-d82f-5035174a5b9f"
      },
      "execution_count": null,
      "outputs": [
        {
          "output_type": "execute_result",
          "data": {
            "text/plain": [
              "float"
            ]
          },
          "metadata": {},
          "execution_count": 10
        }
      ]
    },
    {
      "cell_type": "code",
      "source": [
        "type(a==2)"
      ],
      "metadata": {
        "colab": {
          "base_uri": "https://localhost:8080/"
        },
        "id": "dAjERQcXsCew",
        "outputId": "6b6c8227-b0a1-49d3-c340-61c4ef0bd06a"
      },
      "execution_count": null,
      "outputs": [
        {
          "output_type": "execute_result",
          "data": {
            "text/plain": [
              "bool"
            ]
          },
          "metadata": {},
          "execution_count": 11
        }
      ]
    },
    {
      "cell_type": "code",
      "source": [
        "name = 'my name'\n",
        "print(name)"
      ],
      "metadata": {
        "colab": {
          "base_uri": "https://localhost:8080/"
        },
        "id": "tmvmfEcYsCCA",
        "outputId": "78464cf7-a29f-45ce-b9db-57a6b1e2f59a"
      },
      "execution_count": null,
      "outputs": [
        {
          "output_type": "stream",
          "name": "stdout",
          "text": [
            "my name\n"
          ]
        }
      ]
    },
    {
      "cell_type": "code",
      "source": [
        "type(name)"
      ],
      "metadata": {
        "colab": {
          "base_uri": "https://localhost:8080/"
        },
        "id": "0eKteQ9EsMmv",
        "outputId": "5dfd5ed0-641f-4ab1-dc0f-795c61590bbe"
      },
      "execution_count": null,
      "outputs": [
        {
          "output_type": "execute_result",
          "data": {
            "text/plain": [
              "str"
            ]
          },
          "metadata": {},
          "execution_count": 13
        }
      ]
    },
    {
      "cell_type": "code",
      "source": [
        "my_name #변수명으로 인식. 없는 변수-> error"
      ],
      "metadata": {
        "id": "C32MAQiysQnK"
      },
      "execution_count": null,
      "outputs": []
    },
    {
      "cell_type": "code",
      "source": [
        "#single quote 안에 single quote를 문자로 인식하는 방법\n",
        "`I'm sam.`"
      ],
      "metadata": {
        "colab": {
          "base_uri": "https://localhost:8080/",
          "height": 136
        },
        "id": "qq2PcMOBsX52",
        "outputId": "678bc623-5439-4a01-a9a9-928297eb8ff1"
      },
      "execution_count": null,
      "outputs": [
        {
          "output_type": "error",
          "ename": "SyntaxError",
          "evalue": "ignored",
          "traceback": [
            "\u001b[0;36m  File \u001b[0;32m\"<ipython-input-15-6a0c6c12682f>\"\u001b[0;36m, line \u001b[0;32m2\u001b[0m\n\u001b[0;31m    `I'm sam.`\u001b[0m\n\u001b[0m    ^\u001b[0m\n\u001b[0;31mSyntaxError\u001b[0m\u001b[0;31m:\u001b[0m invalid syntax\n"
          ]
        }
      ]
    },
    {
      "cell_type": "code",
      "source": [
        "#`. \\사용\n",
        "print('I\\'m Sam')\n",
        "\n",
        "#2. \"\"tkdyd\n",
        "print(\"I'm Sam\")"
      ],
      "metadata": {
        "colab": {
          "base_uri": "https://localhost:8080/"
        },
        "id": "eLnP4CsktTGO",
        "outputId": "bfe979a2-0793-4c68-fcfb-680798bb6f2f"
      },
      "execution_count": null,
      "outputs": [
        {
          "output_type": "stream",
          "name": "stdout",
          "text": [
            "I'm Sam\n",
            "I'm Sam\n"
          ]
        }
      ]
    },
    {
      "cell_type": "markdown",
      "source": [
        "### 변수명 정하기\n",
        "- 소문자, 대문자, 숫자, 언더바(_) 사용한다.\n",
        "    - 예: 'name', 'my_name', 'NAME', 'Name', 'name3'\n",
        "    - 불가능한 예: 'my-name', '3name'\n",
        "\n",
        "- 변수명으로 사용할 수 없는 케이스\n",
        "  1. 숫자로 시작할 수 없다.\n",
        "  2. 예약어는 사용할 수 없다."
      ],
      "metadata": {
        "id": "hubKg7a2tjwM"
      }
    },
    {
      "cell_type": "code",
      "source": [
        "name = 'lee'\n",
        "name"
      ],
      "metadata": {
        "colab": {
          "base_uri": "https://localhost:8080/",
          "height": 35
        },
        "id": "3dPG9spZuTP1",
        "outputId": "45f0ac28-dc68-4345-c9dc-f374a26480ab"
      },
      "execution_count": null,
      "outputs": [
        {
          "output_type": "execute_result",
          "data": {
            "application/vnd.google.colaboratory.intrinsic+json": {
              "type": "string"
            },
            "text/plain": [
              "'lee'"
            ]
          },
          "metadata": {},
          "execution_count": 18
        }
      ]
    },
    {
      "cell_type": "code",
      "source": [
        "3name = 'kia' # 숫자는 변수명 맨 앞에 올 수 없다."
      ],
      "metadata": {
        "colab": {
          "base_uri": "https://localhost:8080/",
          "height": 136
        },
        "id": "WTamfGuVuXE6",
        "outputId": "c1cee695-bec8-4d60-b4f9-97fa642ec559"
      },
      "execution_count": null,
      "outputs": [
        {
          "output_type": "error",
          "ename": "SyntaxError",
          "evalue": "ignored",
          "traceback": [
            "\u001b[0;36m  File \u001b[0;32m\"<ipython-input-19-98f875953ea7>\"\u001b[0;36m, line \u001b[0;32m1\u001b[0m\n\u001b[0;31m    3name = 'kia'\u001b[0m\n\u001b[0m        ^\u001b[0m\n\u001b[0;31mSyntaxError\u001b[0m\u001b[0;31m:\u001b[0m invalid syntax\n"
          ]
        }
      ]
    },
    {
      "cell_type": "code",
      "source": [
        "def = 'Hwang' # 예약어는 변수명으로 사용할 수 없다."
      ],
      "metadata": {
        "colab": {
          "base_uri": "https://localhost:8080/",
          "height": 136
        },
        "id": "XeKYzZdauaTg",
        "outputId": "0e1a297c-9e34-4a51-9673-6bdcf6d7dd7e"
      },
      "execution_count": null,
      "outputs": [
        {
          "output_type": "error",
          "ename": "SyntaxError",
          "evalue": "ignored",
          "traceback": [
            "\u001b[0;36m  File \u001b[0;32m\"<ipython-input-20-9da7d426b576>\"\u001b[0;36m, line \u001b[0;32m1\u001b[0m\n\u001b[0;31m    def = 'Hwang'\u001b[0m\n\u001b[0m        ^\u001b[0m\n\u001b[0;31mSyntaxError\u001b[0m\u001b[0;31m:\u001b[0m invalid syntax\n"
          ]
        }
      ]
    },
    {
      "cell_type": "code",
      "source": [
        "help(\"keywords\")"
      ],
      "metadata": {
        "colab": {
          "base_uri": "https://localhost:8080/"
        },
        "id": "h7LCU6LPwg7m",
        "outputId": "b5244925-654b-4bfc-bcba-fdcea1eb2dfc"
      },
      "execution_count": null,
      "outputs": [
        {
          "output_type": "stream",
          "name": "stdout",
          "text": [
            "\n",
            "Here is a list of the Python keywords.  Enter any keyword to get more help.\n",
            "\n",
            "False               class               from                or\n",
            "None                continue            global              pass\n",
            "True                def                 if                  raise\n",
            "and                 del                 import              return\n",
            "as                  elif                in                  try\n",
            "assert              else                is                  while\n",
            "async               except              lambda              with\n",
            "await               finally             nonlocal            yield\n",
            "break               for                 not                 \n",
            "\n"
          ]
        }
      ]
    },
    {
      "cell_type": "markdown",
      "source": [
        "- 주의할 점(특별한 용도가 있어서 일반적으로 사용하지 않는 변수명 타입)\n",
        "    1. 언더바로 시작하는 변수명\n",
        "      예: _name\n",
        "    2. 언더바가 2개 있는 변수명\n",
        "      예: __name__\n",
        "    3. 대문자로 시작하는 변수명\n",
        "      예: Car\n",
        "    4. 전체가 대문자인 변수명\n",
        "      예: CAR\n"
      ],
      "metadata": {
        "id": "Uc1izb1huzGm"
      }
    },
    {
      "cell_type": "code",
      "source": [
        "# number != Number\n",
        "word1 = 'number' \n",
        "word2 = 'Number'"
      ],
      "metadata": {
        "id": "SQUQezC4vsQC"
      },
      "execution_count": null,
      "outputs": []
    },
    {
      "cell_type": "code",
      "source": [
        "word1 == word2 #대소문자 구분한다."
      ],
      "metadata": {
        "colab": {
          "base_uri": "https://localhost:8080/"
        },
        "id": "yFntXAMPwJna",
        "outputId": "09a84559-fe6f-4d0c-c279-f4690e73f611"
      },
      "execution_count": null,
      "outputs": [
        {
          "output_type": "execute_result",
          "data": {
            "text/plain": [
              "False"
            ]
          },
          "metadata": {},
          "execution_count": 24
        }
      ]
    },
    {
      "cell_type": "code",
      "source": [
        "word1 != word2"
      ],
      "metadata": {
        "colab": {
          "base_uri": "https://localhost:8080/"
        },
        "id": "AFP2dgIxv2eR",
        "outputId": "350b2415-cb83-4bae-f71d-31d6b0b6423c"
      },
      "execution_count": null,
      "outputs": [
        {
          "output_type": "execute_result",
          "data": {
            "text/plain": [
              "True"
            ]
          },
          "metadata": {},
          "execution_count": 23
        }
      ]
    },
    {
      "cell_type": "markdown",
      "source": [
        "### 할당하기\n",
        "- 수학에서는 =가 양변이 같음을 의미하는데, 프로그램에서는 할당을 의미한다.\n",
        "  예: name = 'lee'\n",
        "  - lee라는 값을 name에 넣는 것.\n",
        "- 오른쪽에 있는 모든 것은 값을 가져야 한다.(\"초기화\")\n",
        "- 변수 타입은 따로 지정하지 않는다.\n"
      ],
      "metadata": {
        "id": "gkRTtBHgwniC"
      }
    },
    {
      "cell_type": "code",
      "source": [
        "car = 'hyundai'"
      ],
      "metadata": {
        "id": "cInvCHG8w-64"
      },
      "execution_count": null,
      "outputs": []
    },
    {
      "cell_type": "code",
      "source": [
        "kia = 'kia'\n",
        "truck = kia #없는 값이기 때문에"
      ],
      "metadata": {
        "id": "kN6zdQLxxEwn"
      },
      "execution_count": null,
      "outputs": []
    },
    {
      "cell_type": "code",
      "source": [
        "y = x + 10 # x가 초기화 되지 않음."
      ],
      "metadata": {
        "id": "5BUXtqGExN-L"
      },
      "execution_count": null,
      "outputs": []
    },
    {
      "cell_type": "code",
      "source": [
        "x = 2\n",
        "y = x + 10\n",
        "print(x,y)"
      ],
      "metadata": {
        "colab": {
          "base_uri": "https://localhost:8080/"
        },
        "id": "nMUsUzDQxUyM",
        "outputId": "a6bcde36-8454-46bb-f273-63dde5feae8c"
      },
      "execution_count": null,
      "outputs": [
        {
          "output_type": "stream",
          "name": "stdout",
          "text": [
            "2 12\n"
          ]
        }
      ]
    },
    {
      "cell_type": "code",
      "source": [
        "type(car) #str"
      ],
      "metadata": {
        "colab": {
          "base_uri": "https://localhost:8080/",
          "height": 172
        },
        "id": "e4G0ZNaVxixh",
        "outputId": "4390b464-7270-4a12-a474-473221953831"
      },
      "execution_count": null,
      "outputs": [
        {
          "output_type": "error",
          "ename": "NameError",
          "evalue": "ignored",
          "traceback": [
            "\u001b[0;31m---------------------------------------------------------------------------\u001b[0m",
            "\u001b[0;31mNameError\u001b[0m                                 Traceback (most recent call last)",
            "\u001b[0;32m<ipython-input-28-94959d0fa153>\u001b[0m in \u001b[0;36m<module>\u001b[0;34m()\u001b[0m\n\u001b[0;32m----> 1\u001b[0;31m \u001b[0mtype\u001b[0m\u001b[0;34m(\u001b[0m\u001b[0mcar\u001b[0m\u001b[0;34m)\u001b[0m \u001b[0;31m#str\u001b[0m\u001b[0;34m\u001b[0m\u001b[0;34m\u001b[0m\u001b[0m\n\u001b[0m",
            "\u001b[0;31mNameError\u001b[0m: name 'car' is not defined"
          ]
        }
      ]
    },
    {
      "cell_type": "code",
      "source": [
        "# str car = 'kia'\n",
        "car = 'kia'"
      ],
      "metadata": {
        "id": "4OALD9iExn4H"
      },
      "execution_count": null,
      "outputs": []
    },
    {
      "cell_type": "code",
      "source": [
        "car"
      ],
      "metadata": {
        "colab": {
          "base_uri": "https://localhost:8080/",
          "height": 35
        },
        "id": "fAocm9Zox1mR",
        "outputId": "19c12a71-a94f-4856-e563-665a7803b9eb"
      },
      "execution_count": null,
      "outputs": [
        {
          "output_type": "execute_result",
          "data": {
            "application/vnd.google.colaboratory.intrinsic+json": {
              "type": "string"
            },
            "text/plain": [
              "'kia'"
            ]
          },
          "metadata": {},
          "execution_count": 32
        }
      ]
    }
  ]
}